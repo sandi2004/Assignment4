{
 "cells": [
  {
   "cell_type": "code",
   "execution_count": 1,
   "id": "a0220c37-e82f-4dda-b582-f3444e437547",
   "metadata": {},
   "outputs": [],
   "source": [
    "#ans 1="
   ]
  },
  {
   "cell_type": "code",
   "execution_count": 2,
   "id": "8597c1c5-1aae-4f81-b4bc-3ddbc9f612ec",
   "metadata": {},
   "outputs": [],
   "source": [
    "#the def keyword is used to creat ,(or define)a function"
   ]
  },
  {
   "cell_type": "code",
   "execution_count": 3,
   "id": "c177c8b9-4503-4cbf-a19e-295cb990007f",
   "metadata": {},
   "outputs": [
    {
     "name": "stdin",
     "output_type": "stream",
     "text": [
      "Enter the lower limit for the range: 1\n",
      "Enter the upper limit for the range: 25\n"
     ]
    },
    {
     "name": "stdout",
     "output_type": "stream",
     "text": [
      "1\n",
      "3\n",
      "5\n",
      "7\n",
      "9\n",
      "11\n",
      "13\n",
      "15\n",
      "17\n",
      "19\n",
      "21\n",
      "23\n",
      "25\n"
     ]
    }
   ],
   "source": [
    "lower=int(input(\"Enter the lower limit for the range:\"))\n",
    "upper=int(input(\"Enter the upper limit for the range:\"))\n",
    "for i in range(lower,upper+1):\n",
    "    if(i%2!=0):\n",
    "        print(i)\n"
   ]
  },
  {
   "cell_type": "code",
   "execution_count": 5,
   "id": "177c2e95-fa38-47d9-9adf-978591d4acc6",
   "metadata": {},
   "outputs": [],
   "source": [
    "#ans no2="
   ]
  },
  {
   "cell_type": "code",
   "execution_count": 6,
   "id": "6bbec419-2161-42f9-853e-2b1ff65b5eae",
   "metadata": {},
   "outputs": [],
   "source": [
    "#We use *args and **kwargs as an argument when we are unsure about the number of arguments to pass in the functions.\n"
   ]
  },
  {
   "cell_type": "code",
   "execution_count": 7,
   "id": "fd89111d-7fcc-47c8-9520-62c5a38f1413",
   "metadata": {},
   "outputs": [],
   "source": [
    "#examples"
   ]
  },
  {
   "cell_type": "code",
   "execution_count": 9,
   "id": "b3cfea88-49e7-4804-8fce-0072a47a7f50",
   "metadata": {},
   "outputs": [
    {
     "name": "stdout",
     "output_type": "stream",
     "text": [
      "Sum: 8\n",
      "Sum: 22\n",
      "Sum: 17\n"
     ]
    }
   ],
   "source": [
    "def adder(*num):\n",
    "    sum = 0\n",
    "    \n",
    "    for n in num:\n",
    "        sum = sum + n\n",
    "\n",
    "    print(\"Sum:\",sum)\n",
    "\n",
    "adder(3,5)\n",
    "adder(4,5,6,7)\n",
    "adder(1,2,3,5,6)"
   ]
  },
  {
   "cell_type": "code",
   "execution_count": 10,
   "id": "58ab8ad9-0ffa-4edd-b9f1-155f2894542a",
   "metadata": {},
   "outputs": [
    {
     "name": "stdout",
     "output_type": "stream",
     "text": [
      "\n",
      "Data type of argument: <class 'dict'>\n",
      "Firstname is Sita\n",
      "Lastname is Sharma\n",
      "Age is 22\n",
      "Phone is 1234567890\n",
      "\n",
      "Data type of argument: <class 'dict'>\n",
      "Firstname is John\n",
      "Lastname is Wood\n",
      "Email is johnwood@nomail.com\n",
      "Country is Wakanda\n",
      "Age is 25\n",
      "Phone is 9876543210\n"
     ]
    }
   ],
   "source": [
    "def intro(**data):\n",
    "    print(\"\\nData type of argument:\",type(data))\n",
    "\n",
    "    for key, value in data.items():\n",
    "        print(\"{} is {}\".format(key,value))\n",
    "\n",
    "intro(Firstname=\"Sita\", Lastname=\"Sharma\", Age=22, Phone=1234567890)\n",
    "intro(Firstname=\"John\", Lastname=\"Wood\", Email=\"johnwood@nomail.com\", Country=\"Wakanda\", Age=25, Phone=9876543210)\n"
   ]
  },
  {
   "cell_type": "code",
   "execution_count": 11,
   "id": "e7e1bae9-62ac-49c6-92d7-b834e0c98a3c",
   "metadata": {},
   "outputs": [],
   "source": [
    "#ans n0=3"
   ]
  },
  {
   "cell_type": "code",
   "execution_count": 12,
   "id": "8e24d7b1-fc7d-44bb-8a61-602bafecd7dd",
   "metadata": {},
   "outputs": [],
   "source": [
    "#An iterator is an object that contains a countable number of values. An iterator is an object that can be iterated upon, meaning that you can traverse through all the values. Technically, in Python, an iterator is an object which implements the iterator protocol, which consist of the methods __iter__() and __next__() ."
   ]
  },
  {
   "cell_type": "code",
   "execution_count": 13,
   "id": "2c3ce048-8769-4950-a92f-d9301893ae08",
   "metadata": {},
   "outputs": [],
   "source": [
    "#a Python iterator object must implement two special methods, __iter__() and __next__(), collectively called the iterator protocol."
   ]
  },
  {
   "cell_type": "code",
   "execution_count": 14,
   "id": "ea1c95b3-593e-40e6-8638-92538c2529b2",
   "metadata": {},
   "outputs": [],
   "source": [
    "givenlist=[2,4,6,8,10,12,14,16,18,20]"
   ]
  },
  {
   "cell_type": "code",
   "execution_count": 16,
   "id": "80379a76-0a27-46a1-a55f-b8b4632f6725",
   "metadata": {},
   "outputs": [
    {
     "name": "stdout",
     "output_type": "stream",
     "text": [
      "2\n",
      "4\n",
      "6\n",
      "8\n",
      "10\n"
     ]
    }
   ],
   "source": [
    "iterator = iter(givenlist)\n",
    "print(next(iterator))  \n",
    "\n",
    "\n",
    "print(next(iterator))  \n",
    "\n",
    "\n",
    "print(next(iterator))  \n",
    "print(next(iterator))\n",
    "print(next(iterator))\n"
   ]
  },
  {
   "cell_type": "code",
   "execution_count": 18,
   "id": "e8af4282-5198-4d7f-8361-4808aa864084",
   "metadata": {},
   "outputs": [],
   "source": [
    "#ans no=4"
   ]
  },
  {
   "cell_type": "code",
   "execution_count": 19,
   "id": "24597c48-c2b2-4861-9a42-0381fc63792c",
   "metadata": {},
   "outputs": [],
   "source": [
    "#Python Generator functions allow you to declare a function that behaves likes an iterator, allowing programmers to make an iterator in a fast, easy, and clean way. An iterator is an object that can be iterated or looped upon. It is used to abstract a container of data to make it behave like an iterable object.\n"
   ]
  },
  {
   "cell_type": "code",
   "execution_count": 20,
   "id": "8ab4108f-dc7a-46da-bad3-3345d3b185d7",
   "metadata": {},
   "outputs": [],
   "source": [
    "#ans=yield keyword is used to create a generator function. A type of function that is memory efficient and can be used like an iterator object. In layman terms, the yield keyword will turn any expression that is given with it into a generator object and return it to the caller."
   ]
  },
  {
   "cell_type": "code",
   "execution_count": 21,
   "id": "ff98086f-4f27-4d6d-8af7-748f175e3ab8",
   "metadata": {},
   "outputs": [
    {
     "name": "stdout",
     "output_type": "stream",
     "text": [
      "1\n",
      "8\n",
      "27\n",
      "64\n"
     ]
    }
   ],
   "source": [
    "list = [1,2,3,4,5,6]\n",
    "z = (x**3 for x in list)\n",
    "print(next(z))\n",
    "print(next(z))\n",
    "print(next(z))\n",
    "print(next(z))"
   ]
  },
  {
   "cell_type": "code",
   "execution_count": 22,
   "id": "5357562e-d7bb-4315-830f-321997147d2f",
   "metadata": {},
   "outputs": [],
   "source": [
    "#ans no=5="
   ]
  },
  {
   "cell_type": "code",
   "execution_count": 26,
   "id": "5a0bd4f5-4c31-4f96-af9c-691c4bd6e109",
   "metadata": {},
   "outputs": [
    {
     "name": "stdout",
     "output_type": "stream",
     "text": [
      "2 3 5 7 11 13 17 19 23 29 31 37 41 43 47 53 59 61 67 71 73 79 83 89 97 101 103 107 109 113 127 131 137 139 149 151 157 163 167 173 179 181 191 193 197 199 211 223 227 229 233 239 241 251 257 263 269 271 277 281 283 293 307 311 313 317 331 337 347 349 353 359 367 373 379 383 389 397 401 409 419 421 431 433 439 443 449 457 461 463 467 479 487 491 499 503 509 521 523 541 547 557 563 569 571 577 587 593 599 601 607 613 617 619 631 641 643 647 653 659 661 673 677 683 691 701 709 719 727 733 739 743 751 757 761 769 773 787 797 809 811 821 823 827 829 839 853 857 859 863 877 881 883 887 907 911 919 929 937 941 947 953 967 971 977 983 991 997 "
     ]
    }
   ],
   "source": [
    "def isPrime(n):\n",
    "  #since 0 and 1 is not prime return false.\n",
    "  if(n==1 or n==0):\n",
    "    return False\n",
    "    \n",
    "  #Run a loop from 2 to n-1\n",
    "  for i in range(2,n):\n",
    "    #if the number is divisible by i, then n is not a prime number.\n",
    "    if(n%i==0):\n",
    "      return False\n",
    "    \n",
    "  #otherwise, n is prime number.\n",
    "  return True\n",
    "  \n",
    "  \n",
    "  \n",
    "# Driver code\n",
    "N = 1000;\n",
    "#check for every number from 1 to N\n",
    "for i in range(1,N+1):\n",
    "  #check if current number is prime\n",
    "  if(isPrime(i)):\n",
    "    print(i,end=\" \")"
   ]
  },
  {
   "cell_type": "code",
   "execution_count": 30,
   "id": "d8ae7bb0-bc01-4cbd-b891-a44920eb7a5c",
   "metadata": {},
   "outputs": [
    {
     "name": "stdin",
     "output_type": "stream",
     "text": [
      "Enter N: 20\n"
     ]
    },
    {
     "name": "stdout",
     "output_type": "stream",
     "text": [
      "First 20 Prime numbers are:2 3 5 7 11 13 17 19 23 29 31 37 41 43 47 53 59 61 67 71\n"
     ]
    }
   ],
   "source": [
    "def Prime(n):  \n",
    "    for i in range(2,n//2+1):  \n",
    "        if(n%i==0):  \n",
    "            return(0)  \n",
    "    return(1)  \n",
    "  \n",
    "N=int(input(\"Enter N:\"))  \n",
    "i=2 \n",
    "lst=[] \n",
    "while(1):  \n",
    "    if(Prime(i)):  \n",
    "        lst.append(i) \n",
    "        if(len(lst)==N): \n",
    "            break \n",
    "    i+=1 \n",
    "print(\"First \"+str(N)+\" Prime numbers are:\",end=\"\") \n",
    "print(*lst) \n",
    "\n"
   ]
  },
  {
   "cell_type": "code",
   "execution_count": 31,
   "id": "1a778820-5f6a-472c-8035-795b5da33d5c",
   "metadata": {},
   "outputs": [],
   "source": [
    "#Ans n0=6"
   ]
  },
  {
   "cell_type": "code",
   "execution_count": 33,
   "id": "bcb43a51-aa7f-4fbf-af67-407dccc3562e",
   "metadata": {},
   "outputs": [
    {
     "name": "stdout",
     "output_type": "stream",
     "text": [
      "0\n",
      "1\n",
      "1\n",
      "2\n",
      "3\n",
      "5\n",
      "8\n",
      "13\n",
      "21\n",
      "34\n"
     ]
    }
   ],
   "source": [
    "a,b=0,1\n",
    "count=1\n",
    "while count<=10:\n",
    "    print(a)\n",
    "    c=a+b\n",
    "    a=b\n",
    "    b=c\n",
    "    count=count+1"
   ]
  },
  {
   "cell_type": "code",
   "execution_count": 34,
   "id": "c85021e6-a767-4f24-94a2-000fc66bb87c",
   "metadata": {},
   "outputs": [],
   "source": [
    "#ans=7"
   ]
  },
  {
   "cell_type": "code",
   "execution_count": 36,
   "id": "e36276f4-1a28-4379-9e53-ac475495bf5e",
   "metadata": {},
   "outputs": [
    {
     "name": "stdout",
     "output_type": "stream",
     "text": [
      "['p', 'w', 's', 'k', 'i', 'l', 'l', 's']\n"
     ]
    }
   ],
   "source": [
    "h_letters = []\n",
    "s='pwskills'\n",
    "for letter in s:\n",
    "    h_letters.append(letter)\n",
    "\n",
    "print(h_letters)"
   ]
  },
  {
   "cell_type": "code",
   "execution_count": null,
   "id": "fe15ba21-2f71-4a38-9a13-099b81fafa4c",
   "metadata": {},
   "outputs": [],
   "source": [
    "#ans no=8"
   ]
  },
  {
   "cell_type": "code",
   "execution_count": null,
   "id": "52f8f43e-0f45-44f0-a7ef-948fc5cdb4ce",
   "metadata": {},
   "outputs": [],
   "source": [
    "n=int(input('enter the value'))\n",
    "sum=0\n",
    "while n>0:\n",
    "    a=n%10\n",
    "    sum=sum+a*a*a\n",
    "    n=n/10\n",
    "if sum==n:\n",
    "    print('n is palidrome')\n",
    "else:\n",
    "    print('n is not palidrome')"
   ]
  },
  {
   "cell_type": "code",
   "execution_count": null,
   "id": "6f5bd399-4cca-40c8-bfcf-9f683c83a6ed",
   "metadata": {},
   "outputs": [],
   "source": [
    "#ans n0 9="
   ]
  },
  {
   "cell_type": "code",
   "execution_count": null,
   "id": "099a4f1f-ab95-430e-b2d4-afc056a1d613",
   "metadata": {},
   "outputs": [],
   "source": [
    "ood_list = [element for element in range(1, 101) if element % 2 == 1 ]\n",
    "print(odd_list)"
   ]
  },
  {
   "cell_type": "code",
   "execution_count": null,
   "id": "07f2657b-9806-4164-96ea-100d51a7dc67",
   "metadata": {},
   "outputs": [],
   "source": []
  }
 ],
 "metadata": {
  "kernelspec": {
   "display_name": "Python 3 (ipykernel)",
   "language": "python",
   "name": "python3"
  },
  "language_info": {
   "codemirror_mode": {
    "name": "ipython",
    "version": 3
   },
   "file_extension": ".py",
   "mimetype": "text/x-python",
   "name": "python",
   "nbconvert_exporter": "python",
   "pygments_lexer": "ipython3",
   "version": "3.10.8"
  }
 },
 "nbformat": 4,
 "nbformat_minor": 5
}
